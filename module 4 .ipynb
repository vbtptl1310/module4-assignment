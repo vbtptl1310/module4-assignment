{
 "cells": [
  {
   "cell_type": "code",
   "execution_count": null,
   "id": "7ab40ac3",
   "metadata": {},
   "outputs": [],
   "source": [
    "#What is File function in python? What is keywords to create and write file.\n",
    "Python provides inbuilt functions for creating, writing and reading files. There are two types of files that can be handled in\n",
    "python, normal text files and binary files (written in binary language, 0s and 1s).\n",
    "\n",
    "The file function is used to \"create\", \"modify\",\"read\" and \"find\" the external files using python.\n",
    "\"open\" keyword is functioning for create and write files with \"w\" attribute.\n"
   ]
  },
  {
   "cell_type": "code",
   "execution_count": 4,
   "id": "47ce8798",
   "metadata": {},
   "outputs": [
    {
     "name": "stdout",
     "output_type": "stream",
     "text": [
      "Python is a high-level, interpreted, general-purpose programming language. Its design philosophy emphasizes code readability with the use of significant indentation."
     ]
    }
   ],
   "source": [
    "#Write a Python program to read an entire text file.\n",
    "read = open(\"myfile.txt\",\"r\")\n",
    "for line in read:\n",
    "    print(line, end=\"\")\n",
    "read.close()"
   ]
  },
  {
   "cell_type": "code",
   "execution_count": 9,
   "id": "b961668c",
   "metadata": {},
   "outputs": [
    {
     "name": "stdout",
     "output_type": "stream",
     "text": [
      "Python is a high-level, interpreted, general-purpose programming language. Its design philosophy emphasizes code readability with the use of significant indentation.\n",
      "\n",
      "learning file.\n"
     ]
    }
   ],
   "source": [
    "#Write a Python program to append text to a file and display the text.\n",
    "f=open(\"myfile.txt\",'a')\n",
    "f.write(\"\\nlearning file.\")\n",
    "f.close()\n",
    "\n",
    "f=open(\"myfile.txt\", 'r')\n",
    "d = f.read()\n",
    "print(d)"
   ]
  },
  {
   "cell_type": "code",
   "execution_count": 2,
   "id": "be03c6c2",
   "metadata": {},
   "outputs": [
    {
     "name": "stdout",
     "output_type": "stream",
     "text": [
      "banana\n",
      "orange\n"
     ]
    }
   ],
   "source": [
    "#Write a Python program to read first n lines of a file.\n",
    "\n",
    "f = open(\"myfile.txt\",\"r\")\n",
    "x=f.readlines()\n",
    "for i in range(2):\n",
    "    print(x[i],end=\"\")\n",
    "f.close()    "
   ]
  },
  {
   "cell_type": "code",
   "execution_count": 22,
   "id": "193a9de2",
   "metadata": {},
   "outputs": [
    {
     "name": "stdout",
     "output_type": "stream",
     "text": [
      "\n",
      "learning file."
     ]
    }
   ],
   "source": [
    "#Write a Python program to read last n lines of a file.\n",
    "f = open(\"myfile.txt\",\"r\")\n",
    "x=f.readlines()\n",
    "for i in range(-2,0):\n",
    "    print(x[i],end=\"\")\n",
    "f.close()  "
   ]
  },
  {
   "cell_type": "code",
   "execution_count": 24,
   "id": "195a92d8",
   "metadata": {},
   "outputs": [
    {
     "name": "stdout",
     "output_type": "stream",
     "text": [
      "['Python is a high-level, interpreted, general-purpose programming language. Its design philosophy emphasizes code readability with the use of significant indentation.\\n', '\\n', 'learning file.']\n"
     ]
    }
   ],
   "source": [
    "#Write a Python program to read a file line by line and store it into a list\n",
    "f = open(\"myfile.txt\",\"r\")\n",
    "x=list()\n",
    "for line in f:\n",
    "    x.append(line)\n",
    "print(x)\n",
    "f.close()"
   ]
  },
  {
   "cell_type": "code",
   "execution_count": 33,
   "id": "f0e52380",
   "metadata": {},
   "outputs": [
    {
     "name": "stdout",
     "output_type": "stream",
     "text": [
      " variable s:\n",
      " Python is a high-level, interpreted, general-purpose programming language. Its design philosophy emphasizes code readability with the use of significant indentation.\n",
      "\n",
      "learning file.\n"
     ]
    }
   ],
   "source": [
    "#Write a Python program to read a file line by line store it into a variable\n",
    "file = open(\"myfile.txt\",\"r\")\n",
    "s = ''\n",
    "for i in range(len(l)):\n",
    "    s = s + l[i]\n",
    "print(' variable s:\\n',s)"
   ]
  },
  {
   "cell_type": "code",
   "execution_count": 40,
   "id": "6e722827",
   "metadata": {},
   "outputs": [
    {
     "name": "stdout",
     "output_type": "stream",
     "text": [
      "\"general-purpose\"longest words: 15\n"
     ]
    }
   ],
   "source": [
    "#Write a python program to find the longest words.\n",
    "file=open(\"myfile.txt\",'r')\n",
    "l=''\n",
    "x=list()\n",
    "for line in file:\n",
    "    words=line.split()\n",
    "    for word in words:\n",
    "        if len(l)<len(word):\n",
    "            l=word\n",
    "print(f'\"{l}\"longest words:',len(l))\n",
    "file.close()\n",
    "\n",
    "        "
   ]
  },
  {
   "cell_type": "code",
   "execution_count": 1,
   "id": "eff29a50",
   "metadata": {},
   "outputs": [
    {
     "name": "stdout",
     "output_type": "stream",
     "text": [
      "number of lines in a file: 3\n"
     ]
    }
   ],
   "source": [
    "#Write a Python program to count the number of lines in a text file.\n",
    "\n",
    "file=open(\"myfile.txt\",'r')\n",
    "s=''\n",
    "l=list()\n",
    "for line in file:\n",
    "    l.append(line)\n",
    "print(\"number of lines in a file:\",len(l))\n",
    "file.close()   "
   ]
  },
  {
   "cell_type": "code",
   "execution_count": 2,
   "id": "2109ae46",
   "metadata": {},
   "outputs": [
    {
     "name": "stdout",
     "output_type": "stream",
     "text": [
      "{'Python': 1, 'is': 1, 'a': 1, 'high-level,': 1, 'interpreted,': 1, 'general-purpose': 1, 'programming': 1, 'language.': 1, 'Its': 1, 'design': 1, 'philosophy': 1, 'emphasizes': 1, 'code': 1, 'readability': 1, 'with': 1, 'the': 1, 'use': 1, 'of': 1, 'significant': 1, 'indentation.': 1, 'learning': 1, 'file.': 1}\n"
     ]
    }
   ],
   "source": [
    "#Write a Python program to count the frequency of words in a file.\n",
    "file=open(\"myfile.txt\",'r')\n",
    "s=''\n",
    "l=list()\n",
    "for line in file:\n",
    "    l.append(line)\n",
    "file.close()\n",
    "for i in range(len(l)):\n",
    "    s = s + l[i]\n",
    "l = s.split()\n",
    "d = dict()\n",
    "\n",
    "for word in l:\n",
    "    d[word] = d.get(word,0) + 1\n",
    "print(d)\n",
    "    "
   ]
  },
  {
   "cell_type": "code",
   "execution_count": 1,
   "id": "333062e1",
   "metadata": {},
   "outputs": [
    {
     "name": "stdout",
     "output_type": "stream",
     "text": [
      "Done\n"
     ]
    }
   ],
   "source": [
    "#Write a Python program to write a list to a file.\n",
    "fruit=[\"banana\",\"orange\",\"grapes\",\"apple\"]\n",
    "file=open(\"myfile.txt\",'w')\n",
    "for i in fruit:\n",
    "    file.write('%s\\n' % i)\n",
    "print('Done')\n",
    "file.close()    "
   ]
  },
  {
   "cell_type": "code",
   "execution_count": 6,
   "id": "c9a9486a",
   "metadata": {},
   "outputs": [
    {
     "name": "stdout",
     "output_type": "stream",
     "text": [
      "Done\n"
     ]
    }
   ],
   "source": [
    "#Write a Python program to copy the contents of a file to another file.\n",
    "file1 = open(\"myfile.txt\",\"r\")\n",
    "file2 = open(\"copy.txt\",\"w\")\n",
    "for i in file1:\n",
    "    file2.write(i)\n",
    "print('Done')\n",
    "file1.close()\n",
    "file2.close()"
   ]
  },
  {
   "cell_type": "code",
   "execution_count": null,
   "id": "b032c62d",
   "metadata": {},
   "outputs": [],
   "source": [
    "#Explain Exception handling? What is an Error in Python?\n",
    "Exception handling used to handle different types of errors(or \"Logical Errors\") \n",
    "except \"Syntax Errors\" in a specific way.\n",
    "Errors are the problems in a program due to which the program will stop the execution"
   ]
  },
  {
   "cell_type": "code",
   "execution_count": null,
   "id": "c5787676",
   "metadata": {},
   "outputs": [],
   "source": [
    "#How many except statements can a try-except block have? Name Some built-in exception classes\n",
    " While use of try-except block there should be at least \"one\" except statement or \"more than one\" for different cases.\n",
    "- ArithmeticError\n",
    "- ZeroDivisionError\n",
    "- FloatingPointError\n",
    "- OverFlowError"
   ]
  },
  {
   "cell_type": "code",
   "execution_count": null,
   "id": "610a8b8e",
   "metadata": {},
   "outputs": [],
   "source": [
    "#When will the else part of try-except-else be executed?\n",
    "The \"Else\" part executes when \"Except\" part blew up. The priortise order as follow:\n",
    "- Try > Except > Else."
   ]
  },
  {
   "cell_type": "code",
   "execution_count": null,
   "id": "9784c198",
   "metadata": {},
   "outputs": [],
   "source": [
    "#Can one block of except statements handle multiple exception?\n",
    "Yes, One block of exception can handle multiple errors if \"Except\" block not only design for any perticular error."
   ]
  },
  {
   "cell_type": "code",
   "execution_count": null,
   "id": "ffd8fa84",
   "metadata": {},
   "outputs": [],
   "source": [
    "#When is the finally block executed?\n",
    "Finally block will execute in each cases when after execution of try-except-else block."
   ]
  },
  {
   "cell_type": "code",
   "execution_count": null,
   "id": "36cf926d",
   "metadata": {},
   "outputs": [],
   "source": [
    "#What happens when „1‟== 1 is executed?\n",
    "It returns \"False\" for camparision between a string and an Integer.\n",
    "\"1\" == 1"
   ]
  },
  {
   "cell_type": "code",
   "execution_count": 8,
   "id": "e8edda3d",
   "metadata": {},
   "outputs": [
    {
     "name": "stdout",
     "output_type": "stream",
     "text": [
      "number divisible by zero division by zero\n",
      "Done\n"
     ]
    }
   ],
   "source": [
    "#How Do You Handle Exceptions With Try/Except/Finally In Python? Explain with coding snippets.\n",
    "\n",
    "try:\n",
    "    print(1/0)\n",
    "except ZeroDivisionError as z:\n",
    "    print(\"number divisible by zero\",z)\n",
    "finally:\n",
    "     print(\"Done\")"
   ]
  },
  {
   "cell_type": "code",
   "execution_count": 19,
   "id": "7aca86a1",
   "metadata": {},
   "outputs": [
    {
     "name": "stdout",
     "output_type": "stream",
     "text": [
      "enter the number:7\n",
      "number is odd \"7\"\n"
     ]
    }
   ],
   "source": [
    "#Write python program that user to enter only odd numbers, else will raise try an exception.\n",
    "x=int(input(\"enter the number:\"))\n",
    "if x % 2 == 0:\n",
    "    raise Exception(\"number is Even\")\n",
    "else:\n",
    "    print(f'number is odd \"{x}\"')\n",
    "    "
   ]
  },
  {
   "cell_type": "code",
   "execution_count": null,
   "id": "29622766",
   "metadata": {},
   "outputs": [],
   "source": [
    "#What are oops concepts? Is multiple inheritance supported in java\n",
    " OOP is stands for \"Object Oriented Programming\". In python everything is an object and belong to a class.\n",
    "Java does not support multiple inheritance. This means that a class cannot extend more than one class."
   ]
  },
  {
   "cell_type": "code",
   "execution_count": null,
   "id": "88040e98",
   "metadata": {},
   "outputs": [],
   "source": [
    "#How to Define a Class in Python? What Is Self? Give An Example Of A Python Class\n",
    "> In python, a class is define by keyword \"class\" and followed by class name. An example is given below.\n",
    "class A:\n",
    "    pass\n",
    "\n",
    " > \"self\" is define as instance of class same as \"this\" keyword in java. we can give any name in place of \"self\" \n",
    "but it is compalsory to give as first parameter in method."
   ]
  },
  {
   "cell_type": "code",
   "execution_count": 26,
   "id": "e192f632",
   "metadata": {},
   "outputs": [
    {
     "name": "stdout",
     "output_type": "stream",
     "text": [
      "Area of Rectangle: 24\n"
     ]
    }
   ],
   "source": [
    "#Write a Python class named Rectangle constructed by a length and width and a method which will compute the area of a rectangle\n",
    "class Rectangle:\n",
    "    def __init__(self,l,w):\n",
    "        self.l=l\n",
    "        self.w=w\n",
    "        \n",
    "    def area(self):\n",
    "        print(\"Area of Rectangle:\",self.l*self.w)\n",
    "        \n",
    "        \n",
    "obj=Rectangle(12,2)\n",
    "obj.area()"
   ]
  },
  {
   "cell_type": "code",
   "execution_count": 29,
   "id": "ad83055f",
   "metadata": {},
   "outputs": [
    {
     "name": "stdout",
     "output_type": "stream",
     "text": [
      "radius of circle.\n",
      "area of circle: 12.566370614359172\n",
      "perimeter of circle: 12.566370614359172\n"
     ]
    }
   ],
   "source": [
    "#Write a Python class named Circle constructed by a radius and two methods which will compute the area and the perimeter of \n",
    "#a circle\n",
    "\n",
    "from math import pi\n",
    "class Circle:\n",
    "    def __init__(self,r):\n",
    "        self.r=r\n",
    "        print(\"radius of circle.\")\n",
    "        \n",
    "    def area(self):\n",
    "        print(\"area of circle:\",pi*self.r*self.r)\n",
    "        \n",
    "    def Perimeter(self):\n",
    "        print(\"perimeter of circle:\",2*pi*self.r)\n",
    "        \n",
    "c=Circle(2)\n",
    "c.area()\n",
    "c.Perimeter()\n"
   ]
  },
  {
   "cell_type": "code",
   "execution_count": null,
   "id": "af35a76f",
   "metadata": {},
   "outputs": [],
   "source": [
    "#Explain Inheritance in Python with an example? What is init? Or What Is A Constructor In Python?\n",
    "Inheritance is the capability of one class to derive or inherit the properties from another class. \n",
    " the ‘__init__’ function of a class is invoked when we create an object variable or an instance of the class.\n",
    "Python Constructor A constructor is a special type of method (function) \n",
    "which is used to initialize the instance members of the class. It is used to create an object.   "
   ]
  },
  {
   "cell_type": "code",
   "execution_count": null,
   "id": "865c5f21",
   "metadata": {},
   "outputs": [],
   "source": [
    "#What is Instantiation in terms of OOP terminology?\n",
    "Instantiation − The creation of an instance of a class.\n",
    "Method − A special kind of function that is defined in a class definition. Object − A unique instance of a data structure \n",
    "that's defined by its class. An object comprises both data members (class variables and instance variables) and methods."
   ]
  },
  {
   "cell_type": "code",
   "execution_count": 3,
   "id": "57beffd6",
   "metadata": {},
   "outputs": [
    {
     "name": "stdout",
     "output_type": "stream",
     "text": [
      "<class '__main__.A'>\n"
     ]
    }
   ],
   "source": [
    "#What is used to check whether an object o is an instance of class A?\n",
    "class A:\n",
    "    pass\n",
    "\n",
    "o = A()\n",
    "print(type(o))"
   ]
  },
  {
   "cell_type": "code",
   "execution_count": null,
   "id": "ea135f0d",
   "metadata": {},
   "outputs": [],
   "source": [
    "#What relationship is appropriate for Course and Faculty?\n",
    "\"Association\" relationship is appropriate for Course and Faculty."
   ]
  },
  {
   "cell_type": "code",
   "execution_count": null,
   "id": "8233083d",
   "metadata": {},
   "outputs": [],
   "source": [
    "#What relationship is appropriate for Student and Person?\n",
    "\"Inheritance\" relationship is appropriate for Student and Person."
   ]
  }
 ],
 "metadata": {
  "kernelspec": {
   "display_name": "Python 3 (ipykernel)",
   "language": "python",
   "name": "python3"
  },
  "language_info": {
   "codemirror_mode": {
    "name": "ipython",
    "version": 3
   },
   "file_extension": ".py",
   "mimetype": "text/x-python",
   "name": "python",
   "nbconvert_exporter": "python",
   "pygments_lexer": "ipython3",
   "version": "3.9.12"
  }
 },
 "nbformat": 4,
 "nbformat_minor": 5
}
